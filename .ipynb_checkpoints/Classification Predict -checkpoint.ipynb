{
 "cells": [
  {
   "cell_type": "markdown",
   "id": "fccd1578",
   "metadata": {},
   "source": [
    "# Advanced Classification Predict\n",
    "\n",
    "©  Explore Data Science Academy\n",
    "\n",
    "---\n",
    "\n",
    "### Honour Code\n",
    "\n",
    "I **EDSA-Team_8**, confirm - by submitting this document - that the solutions in this notebook are a result of my own work and that I abide by the [EDSA honour code](https://drive.google.com/file/d/1QDCjGZJ8-FmJE3bZdIQNwnJyQKPhHZBn/view?usp=sharing).\n",
    "\n",
    "Non-compliance with the honour code constitutes a material breach of contract.\n",
    "\n",
    "### Predict Overview: Climate Change Belief Analysis 2022\n",
    "Many companies are built around lessening one’s environmental impact or carbon footprint. They offer products and services that are environmentally friendly and sustainable, in line with their values and ideals. They would like to determine how people perceive climate change and whether or not they believe it is a real threat. This would add to their market research efforts in gauging how their product/service may be received, Your company has been awarded the contract to:\n",
    "\n",
    "- 1. analyse the supplied data;\n",
    "- 2. identify potential errors in the data and clean the existing data set;\n",
    "- 3. determine if additional features can be added to enrich the data set;\n",
    "- 4. build a model that is capable of forecasting the three hourly demand shortfalls;\n",
    "- 5. evaluate the accuracy of the best machine learning model;\n",
    "- 6. determine what features were most important in the model’s prediction decision, and\n",
    "- 7. explain the inner working of the model to a non-technical audience.\n"
   ]
  },
  {
   "cell_type": "markdown",
   "id": "68e24616",
   "metadata": {},
   "source": [
    "<a id=\"cont\"></a>\n",
    "\n",
    "## Table of Contents\n",
    "\n",
    "<a href=#one>1. Importing Packages</a>\n",
    "\n",
    "<a href=#two>2. Loading Data</a>\n",
    "\n",
    "<a href=#three>3. Exploratory Data Analysis (EDA)</a>\n",
    "\n",
    "<a href=#four>4. Data Engineering</a>\n",
    "\n",
    "<a href=#five>5. Modeling</a>\n",
    "\n",
    "<a href=#six>6. Model Performance</a>\n",
    "\n",
    "<a href=#seven>7. Model Explanations</a>"
   ]
  },
  {
   "cell_type": "markdown",
   "id": "b3d6b8ad",
   "metadata": {},
   "source": [
    " <a id=\"one\"></a>\n",
    "## 1. Importing Packages\n",
    "<a href=#cont>Back to Table of Contents</a>\n",
    "\n",
    "---\n",
    "    \n",
    "| ⚡ Description: Importing Packages ⚡ |\n",
    "| :--------------------------- |\n",
    "| In this section the required packages are imported, and briefly discuss, the libraries that will be used throughout the analysis and modelling. |"
   ]
  },
  {
   "cell_type": "code",
   "execution_count": 19,
   "id": "d846a0f8",
   "metadata": {},
   "outputs": [],
   "source": [
    "#importing the required libraries\n",
    "# Libraries for data loading, data manipulation and data visulisation\n",
    "import numpy as np\n",
    "import pandas as pd\n",
    "from matplotlib import pyplot as plt\n",
    "import seaborn as sns\n",
    "# Customise our plotting settings\n",
    "sns.set_style('whitegrid')\n",
    "#Libraries for data preparation and model building\n",
    "\n",
    "# Setting global constants to ensure notebook results are reproducible"
   ]
  },
  {
   "cell_type": "markdown",
   "id": "a16e5861",
   "metadata": {},
   "source": [
    " <a id=\"two\"></a>\n",
    "## 2. Loading Data\n",
    "<a href=#cont>Back to Table of Contents</a>"
   ]
  },
  {
   "cell_type": "markdown",
   "id": "db3f8f41",
   "metadata": {},
   "source": [
    "We frist start by loading in our dataset, both the `training` and `testing` dataset is loaded as a pandas dataframe"
   ]
  },
  {
   "cell_type": "code",
   "execution_count": 20,
   "id": "4e3e201c",
   "metadata": {},
   "outputs": [],
   "source": [
    "#load the training and test data set\n",
    "train = pd.read_csv('train.csv')\n",
    "test = pd.read_csv('test.csv')"
   ]
  },
  {
   "cell_type": "markdown",
   "id": "f12599cf",
   "metadata": {},
   "source": [
    " <a id=\"three\"></a>\n",
    "## 3. Exploratory Data Analysis (EDA)\n",
    "<a href=#cont>Back to Table of Contents</a>"
   ]
  },
  {
   "cell_type": "markdown",
   "id": "8ce9f8ce",
   "metadata": {},
   "source": [
    "**Exploratory Data Analysis (EDA) :**  After loading in our dataset we first start with the vital component **EDA** to better understand the dataset we are working with and, to gain insight about the `features` and `labels` by performing `Univariate` or `Multivariate` , `Non-graphical` or `Graphical` Analysis\""
   ]
  },
  {
   "cell_type": "markdown",
   "id": "ce9a2606",
   "metadata": {},
   "source": [
    "We take a look quick look at the first few rows of the `training` and `testing` dataset to have an overview of our features and labels, (using `pd.head()` method)"
   ]
  },
  {
   "cell_type": "code",
   "execution_count": 21,
   "id": "bd201e76",
   "metadata": {},
   "outputs": [
    {
     "data": {
      "text/html": [
       "<div>\n",
       "<style scoped>\n",
       "    .dataframe tbody tr th:only-of-type {\n",
       "        vertical-align: middle;\n",
       "    }\n",
       "\n",
       "    .dataframe tbody tr th {\n",
       "        vertical-align: top;\n",
       "    }\n",
       "\n",
       "    .dataframe thead th {\n",
       "        text-align: right;\n",
       "    }\n",
       "</style>\n",
       "<table border=\"1\" class=\"dataframe\">\n",
       "  <thead>\n",
       "    <tr style=\"text-align: right;\">\n",
       "      <th></th>\n",
       "      <th>sentiment</th>\n",
       "      <th>message</th>\n",
       "      <th>tweetid</th>\n",
       "    </tr>\n",
       "  </thead>\n",
       "  <tbody>\n",
       "    <tr>\n",
       "      <th>0</th>\n",
       "      <td>1</td>\n",
       "      <td>PolySciMajor EPA chief doesn't think carbon di...</td>\n",
       "      <td>625221</td>\n",
       "    </tr>\n",
       "    <tr>\n",
       "      <th>1</th>\n",
       "      <td>1</td>\n",
       "      <td>It's not like we lack evidence of anthropogeni...</td>\n",
       "      <td>126103</td>\n",
       "    </tr>\n",
       "    <tr>\n",
       "      <th>2</th>\n",
       "      <td>2</td>\n",
       "      <td>RT @RawStory: Researchers say we have three ye...</td>\n",
       "      <td>698562</td>\n",
       "    </tr>\n",
       "    <tr>\n",
       "      <th>3</th>\n",
       "      <td>1</td>\n",
       "      <td>#TodayinMaker# WIRED : 2016 was a pivotal year...</td>\n",
       "      <td>573736</td>\n",
       "    </tr>\n",
       "    <tr>\n",
       "      <th>4</th>\n",
       "      <td>1</td>\n",
       "      <td>RT @SoyNovioDeTodas: It's 2016, and a racist, ...</td>\n",
       "      <td>466954</td>\n",
       "    </tr>\n",
       "  </tbody>\n",
       "</table>\n",
       "</div>"
      ],
      "text/plain": [
       "   sentiment                                            message  tweetid\n",
       "0          1  PolySciMajor EPA chief doesn't think carbon di...   625221\n",
       "1          1  It's not like we lack evidence of anthropogeni...   126103\n",
       "2          2  RT @RawStory: Researchers say we have three ye...   698562\n",
       "3          1  #TodayinMaker# WIRED : 2016 was a pivotal year...   573736\n",
       "4          1  RT @SoyNovioDeTodas: It's 2016, and a racist, ...   466954"
      ]
     },
     "execution_count": 21,
     "metadata": {},
     "output_type": "execute_result"
    }
   ],
   "source": [
    "#The first five columns of the traing dataset\n",
    "train.head()"
   ]
  },
  {
   "cell_type": "markdown",
   "id": "4755a56d",
   "metadata": {},
   "source": [
    "After taking a look at the frist five  rows of the dataFrame we can see that we have `Three (3)` columns in the dataFrame.\n",
    "\n",
    "we have two features and one label\n",
    "\n",
    "features inludes:\n",
    "\n",
    "    - message\n",
    "    - tweetid\n",
    "\n",
    "label:\n",
    "\n",
    "    - sentiment\n",
    "    \n",
    "And the test dataFrame contains only the features"
   ]
  },
  {
   "cell_type": "code",
   "execution_count": 22,
   "id": "5855525b",
   "metadata": {},
   "outputs": [
    {
     "data": {
      "text/html": [
       "<div>\n",
       "<style scoped>\n",
       "    .dataframe tbody tr th:only-of-type {\n",
       "        vertical-align: middle;\n",
       "    }\n",
       "\n",
       "    .dataframe tbody tr th {\n",
       "        vertical-align: top;\n",
       "    }\n",
       "\n",
       "    .dataframe thead th {\n",
       "        text-align: right;\n",
       "    }\n",
       "</style>\n",
       "<table border=\"1\" class=\"dataframe\">\n",
       "  <thead>\n",
       "    <tr style=\"text-align: right;\">\n",
       "      <th></th>\n",
       "      <th>message</th>\n",
       "      <th>tweetid</th>\n",
       "    </tr>\n",
       "  </thead>\n",
       "  <tbody>\n",
       "    <tr>\n",
       "      <th>0</th>\n",
       "      <td>Europe will now be looking to China to make su...</td>\n",
       "      <td>169760</td>\n",
       "    </tr>\n",
       "    <tr>\n",
       "      <th>1</th>\n",
       "      <td>Combine this with the polling of staffers re c...</td>\n",
       "      <td>35326</td>\n",
       "    </tr>\n",
       "    <tr>\n",
       "      <th>2</th>\n",
       "      <td>The scary, unimpeachable evidence that climate...</td>\n",
       "      <td>224985</td>\n",
       "    </tr>\n",
       "    <tr>\n",
       "      <th>3</th>\n",
       "      <td>@Karoli @morgfair @OsborneInk @dailykos \\r\\nPu...</td>\n",
       "      <td>476263</td>\n",
       "    </tr>\n",
       "    <tr>\n",
       "      <th>4</th>\n",
       "      <td>RT @FakeWillMoore: 'Female orgasms cause globa...</td>\n",
       "      <td>872928</td>\n",
       "    </tr>\n",
       "  </tbody>\n",
       "</table>\n",
       "</div>"
      ],
      "text/plain": [
       "                                             message  tweetid\n",
       "0  Europe will now be looking to China to make su...   169760\n",
       "1  Combine this with the polling of staffers re c...    35326\n",
       "2  The scary, unimpeachable evidence that climate...   224985\n",
       "3  @Karoli @morgfair @OsborneInk @dailykos \\r\\nPu...   476263\n",
       "4  RT @FakeWillMoore: 'Female orgasms cause globa...   872928"
      ]
     },
     "execution_count": 22,
     "metadata": {},
     "output_type": "execute_result"
    }
   ],
   "source": [
    "#The first five columns of the test dataset\n",
    "test.head()"
   ]
  },
  {
   "cell_type": "markdown",
   "id": "9dd1af86",
   "metadata": {},
   "source": [
    "we will take a look at the shape of the dataframe to understand the amount of data we are working with, the **rows** and the **columns**"
   ]
  },
  {
   "cell_type": "code",
   "execution_count": 23,
   "id": "5d09b8b4",
   "metadata": {},
   "outputs": [
    {
     "data": {
      "text/plain": [
       "(15819, 3)"
      ]
     },
     "execution_count": 23,
     "metadata": {},
     "output_type": "execute_result"
    }
   ],
   "source": [
    "#checking the shape of the traing dataframe\n",
    "train.shape"
   ]
  },
  {
   "cell_type": "markdown",
   "id": "5411bfe3",
   "metadata": {},
   "source": [
    "looking at the shape of the dataframe we have `15819` rows and `3` columns"
   ]
  },
  {
   "cell_type": "markdown",
   "id": "a7ec4779",
   "metadata": {},
   "source": [
    "Next up let's take a look at the data types of the dataFrame using `pd.info()`"
   ]
  },
  {
   "cell_type": "code",
   "execution_count": 24,
   "id": "ff1e0682",
   "metadata": {},
   "outputs": [
    {
     "name": "stdout",
     "output_type": "stream",
     "text": [
      "<class 'pandas.core.frame.DataFrame'>\n",
      "RangeIndex: 15819 entries, 0 to 15818\n",
      "Data columns (total 3 columns):\n",
      " #   Column     Non-Null Count  Dtype \n",
      "---  ------     --------------  ----- \n",
      " 0   sentiment  15819 non-null  int64 \n",
      " 1   message    15819 non-null  object\n",
      " 2   tweetid    15819 non-null  int64 \n",
      "dtypes: int64(2), object(1)\n",
      "memory usage: 370.9+ KB\n"
     ]
    }
   ],
   "source": [
    "#checking the information of the dataframe\n",
    "train.info()"
   ]
  },
  {
   "cell_type": "markdown",
   "id": "d01dfde4",
   "metadata": {},
   "source": [
    "looking at the above output we can see that we have two `int64` and one `object` "
   ]
  },
  {
   "cell_type": "code",
   "execution_count": 25,
   "id": "da41031e",
   "metadata": {},
   "outputs": [
    {
     "data": {
      "text/plain": [
       "sentiment    0\n",
       "message      0\n",
       "tweetid      0\n",
       "dtype: int64"
      ]
     },
     "execution_count": 25,
     "metadata": {},
     "output_type": "execute_result"
    }
   ],
   "source": [
    "#checking null values in the training data\n",
    "train.isnull().sum()"
   ]
  },
  {
   "cell_type": "markdown",
   "id": "dc689f1f",
   "metadata": {},
   "source": [
    "well it shows that we have **0** null values in the training data"
   ]
  },
  {
   "cell_type": "markdown",
   "id": "cadb668e",
   "metadata": {},
   "source": [
    "let's take a closer look on our label `sentiment` "
   ]
  },
  {
   "cell_type": "code",
   "execution_count": 26,
   "id": "0bf65d74",
   "metadata": {},
   "outputs": [
    {
     "data": {
      "text/plain": [
       " 1    8530\n",
       " 2    3640\n",
       " 0    2353\n",
       "-1    1296\n",
       "Name: sentiment, dtype: int64"
      ]
     },
     "execution_count": 26,
     "metadata": {},
     "output_type": "execute_result"
    }
   ],
   "source": [
    "#checking for unique values \n",
    "train['sentiment'].value_counts()"
   ]
  },
  {
   "cell_type": "markdown",
   "id": "9aa80007",
   "metadata": {},
   "source": [
    "Well it looks like we have 4 unique values in our label.\n",
    "\n",
    "Based on the description of the data here is what each value stands for:\n",
    "\n",
    "    1 Pro: the tweet supports the belief of man-made climate change\n",
    "    2 News: the tweet links to factual news about climate change\n",
    "    0 Neutral: the tweet neither supports nor refutes the belief of man-made climate change\n",
    "    -1 Anti: the tweet does not believe in man-made climate change"
   ]
  },
  {
   "cell_type": "markdown",
   "id": "d2eea688",
   "metadata": {},
   "source": [
    "let's count and plot the destribution of each unique value"
   ]
  },
  {
   "cell_type": "code",
   "execution_count": 27,
   "id": "8151da9e",
   "metadata": {},
   "outputs": [
    {
     "data": {
      "image/png": "[encoded data removed]",
      "text/plain": [
       "<Figure size 576x288 with 1 Axes>"
      ]
     },
     "metadata": {},
     "output_type": "display_data"
    }
   ],
   "source": [
    "#ploting the destribution of unique label values\n",
    "f, ax = plt.subplots(figsize=(8, 4))\n",
    "ax = sns.countplot(x=\"sentiment\", data=train)\n",
    "plt.show()"
   ]
  },
  {
   "cell_type": "markdown",
   "id": "895abdd3",
   "metadata": {},
   "source": [
    "**Interpretation**\n",
    "\n",
    "- The above plot comfirms that:\n",
    "\n",
    "`1296` tweets do not believe in man-made climate change `-1`\n",
    "\n",
    "`2353` tweets neither supports nor refutes the belief of man-made climate change `0`\n",
    "\n",
    "`8530` Pro: the tweet supports the belief of man-made climate change `1`\n",
    "\n",
    "`3640` News: the tweet links to factual news about climate change `2`\n",
    "\n",
    "The plot show that the highest propotion of the tweets supports the belife of man-made climate change"
   ]
  },
  {
   "cell_type": "markdown",
   "id": "6b53f83a",
   "metadata": {},
   "source": [
    "Now moving on let's explore our `features` to gain more insight  "
   ]
  },
  {
   "cell_type": "code",
   "execution_count": 28,
   "id": "9217dfd6",
   "metadata": {},
   "outputs": [
    {
     "data": {
      "text/plain": [
       "15819"
      ]
     },
     "execution_count": 28,
     "metadata": {},
     "output_type": "execute_result"
    }
   ],
   "source": [
    "#checking the tweetid to see if there are any duplicate id's\n",
    "train['tweetid'].nunique()"
   ]
  },
  {
   "cell_type": "markdown",
   "id": "5ec524eb",
   "metadata": {},
   "source": [
    "Okay it looks like we don't have a value from the `tweetid`column"
   ]
  },
  {
   "cell_type": "markdown",
   "id": "706e47cc",
   "metadata": {},
   "source": [
    "Moving on let's take a closer look into the `message` column which contains the tweets"
   ]
  },
  {
   "cell_type": "code",
   "execution_count": 29,
   "id": "1ec19963",
   "metadata": {},
   "outputs": [
    {
     "data": {
      "text/plain": [
       "0    PolySciMajor EPA chief doesn't think carbon di...\n",
       "1    It's not like we lack evidence of anthropogeni...\n",
       "2    RT @RawStory: Researchers say we have three ye...\n",
       "3    #TodayinMaker# WIRED : 2016 was a pivotal year...\n",
       "4    RT @SoyNovioDeTodas: It's 2016, and a racist, ...\n",
       "Name: message, dtype: object"
      ]
     },
     "execution_count": 29,
     "metadata": {},
     "output_type": "execute_result"
    }
   ],
   "source": [
    "#taking a closer look on the message column\n",
    "train['message'].head()"
   ]
  },
  {
   "cell_type": "markdown",
   "id": "3c7293c8",
   "metadata": {},
   "source": [
    "Well based on what we are seeing the `message` column which contains the tweets has some characters, we need to clean the data"
   ]
  },
  {
   "cell_type": "markdown",
   "id": "76b9598e",
   "metadata": {},
   "source": [
    "**Next setp is Data cleaning**\n",
    "\n",
    "Before applying any ML model to a set of data we need fisrt check our data to see if the data is in the state data we want it to be or do we need clean the data, well our case we need to clean the data moving on we will start the Data cleaning process"
   ]
  },
  {
   "cell_type": "code",
   "execution_count": null,
   "id": "5f0c4a5a",
   "metadata": {},
   "outputs": [],
   "source": [
    "# Data cleaning "
   ]
  },
  {
   "cell_type": "code",
   "execution_count": null,
   "id": "3ca0ef87",
   "metadata": {},
   "outputs": [],
   "source": [
    "#Data preprocessing"
   ]
  },
  {
   "cell_type": "code",
   "execution_count": null,
   "id": "c591f9d9",
   "metadata": {},
   "outputs": [],
   "source": [
    "# Determine our Label"
   ]
  },
  {
   "cell_type": "code",
   "execution_count": null,
   "id": "ae15ee54",
   "metadata": {},
   "outputs": [],
   "source": [
    "# Split Data (into Training & Test)"
   ]
  },
  {
   "cell_type": "markdown",
   "id": "d8617a3d",
   "metadata": {},
   "source": [
    " <a id=\"four\"></a>\n",
    "## 4. Feature Engineering\n",
    "<a href=#cont>Back to Table of Contents</a>"
   ]
  },
  {
   "cell_type": "code",
   "execution_count": null,
   "id": "59d40a70",
   "metadata": {},
   "outputs": [],
   "source": [
    "# Extract features to help predict the label \n",
    "# Bag-of-words vectors built into sklearn"
   ]
  },
  {
   "cell_type": "markdown",
   "id": "a15c90ed",
   "metadata": {},
   "source": [
    " <a id=\"five\"></a>\n",
    "## 5. Modeling\n",
    "<a href=#cont>Back to Table of Contents</a>"
   ]
  },
  {
   "cell_type": "code",
   "execution_count": null,
   "id": "83e8ff5c",
   "metadata": {},
   "outputs": [],
   "source": []
  },
  {
   "cell_type": "code",
   "execution_count": null,
   "id": "cf5e3583",
   "metadata": {},
   "outputs": [],
   "source": []
  },
  {
   "cell_type": "markdown",
   "id": "b78448ec",
   "metadata": {},
   "source": [
    " <a id=\"six\"></a>\n",
    "## 6. Model Performance\n",
    "<a href=#cont>Back to Table of Contents</a>"
   ]
  },
  {
   "cell_type": "code",
   "execution_count": null,
   "id": "6e047f2a",
   "metadata": {},
   "outputs": [],
   "source": [
    "# Evaluate trained model using the test set"
   ]
  },
  {
   "cell_type": "code",
   "execution_count": null,
   "id": "456056db",
   "metadata": {},
   "outputs": [],
   "source": []
  },
  {
   "cell_type": "markdown",
   "id": "c220e006",
   "metadata": {},
   "source": [
    " <a id=\"seven\"></a>\n",
    "## 7. Model Explanations\n",
    "<a href=#cont>Back to Table of Contents</a>"
   ]
  },
  {
   "cell_type": "code",
   "execution_count": null,
   "id": "c3af7c39",
   "metadata": {},
   "outputs": [],
   "source": []
  }
 ],
 "metadata": {
  "kernelspec": {
   "display_name": "Python 3 (ipykernel)",
   "language": "python",
   "name": "python3"
  },
  "language_info": {
   "codemirror_mode": {
    "name": "ipython",
    "version": 3
   },
   "file_extension": ".py",
   "mimetype": "text/x-python",
   "name": "python",
   "nbconvert_exporter": "python",
   "pygments_lexer": "ipython3",
   "version": "3.9.7"
  }
 },
 "nbformat": 4,
 "nbformat_minor": 5
}
